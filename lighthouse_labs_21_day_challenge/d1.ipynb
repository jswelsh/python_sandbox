{
 "metadata": {
  "language_info": {
   "codemirror_mode": {
    "name": "ipython",
    "version": 3
   },
   "file_extension": ".py",
   "mimetype": "text/x-python",
   "name": "python",
   "nbconvert_exporter": "python",
   "pygments_lexer": "ipython3",
   "version": "3.8.5-final"
  },
  "orig_nbformat": 2,
  "kernelspec": {
   "name": "python3",
   "display_name": "Python 3.8.5 64-bit",
   "metadata": {
    "interpreter": {
     "hash": "31f2aee4e71d21fbe5cf8b01ff0e069b9275f58929596ceb00d14d90e3e16cd6"
    }
   }
  }
 },
 "nbformat": 4,
 "nbformat_minor": 2,
 "cells": [
  {
   "source": [
    "Day One: Python variables & print functions\n",
    "Dot has arrived in their new home, far away from the city. It’s so quiet and peaceful out here! As they walk into their new home, the first thing they notice is a letter from the landlord. The landlord wants them to print out and sign their lease.\n",
    "\n",
    "Dot wants to get that over with ASAP before they forget. Can you help them by printing the lease to the console?\n",
    "\n",
    "Tutorial:\n",
    "Variables in Python\n",
    "\n",
    "In Python, variables are structures that store values within them. A variable can be in the form of a string, an integer, or even a list.\n",
    "\n",
    "var_a = 'This is a string.'\n",
    "\n",
    "var_b = 21\n",
    "\n",
    "var_c = ['This','is','a','list','on', 'the',21,'day data challenge.']\n",
    "Note: In the example above, var_c is a list. A list is a type of data structure that can be sequenced. Lists can contain many items that can be indexed by integers, and each item are seperated by the ','.\n",
    "\n",
    "Strings in Python\n",
    "\n",
    "Strings are how text is represented in a computer program, and are considered a unique type of data. You can think of them as a sequence of characters.\n",
    "\n",
    "To learn about strings in Python, read this article before completing the challenge.\n",
    "\n",
    "String Formating\n",
    "\n",
    "Below is an example of the f'string format, which allows us to input certain pre-defined variables in a string.\n",
    "\n",
    "x = 'string'\n",
    "y = 2021\n",
    "\n",
    "string_formating = f'This is a {x} format and the year is {y}.' #prints out 'This is a string format and the year is 2021.\"\n",
    "To read more on formatting strings in Python read this article.\n",
    "\n",
    "Challenge: Modify the lease agreement with your signature without changing the original lease variable.\n",
    "lease = '''Dear Dot, \n",
    "           This document validates that you are beholden to a monthly payment of rent for this house.\n",
    "           Rent is to be paid by the first of every month.\n",
    "           Fill in your signature to agree to these terms.  \n",
    "            -------------\n",
    "            Please Sign Here: \n",
    "'''\n",
    "# Solution\n",
    "\n",
    "signature = \"Dot\"\n",
    "\n",
    "new_lease = f'''\n",
    "Dear Dot, \n",
    "This document validates that you are beholden to a monthly payment of rent for this house.\n",
    "Rent is to be paid by the first of every month.\n",
    "Fill in your signature to agree to these terms.\n",
    "-------------\n",
    "Please Sign Here: {signature} \n",
    "'''\n",
    "print(new_lease)\n",
    "Dear Dot, \n",
    "This document validates that you are beholden to a monthly payment of rent for this house.\n",
    "Rent is to be paid by the first of every month.\n",
    "Fill in your signature to agree to these terms.\n",
    "-------------\n",
    "Please Sign Here: Dot \n",
    "\n",
    "Explanations\n"
   ],
   "cell_type": "markdown",
   "metadata": {}
  },
  {
   "cell_type": "code",
   "execution_count": 2,
   "metadata": {},
   "outputs": [
    {
     "output_type": "stream",
     "name": "stdout",
     "text": [
      "\nDear Dot, \nThis document validates that you are beholden to a monthly payment of rent for this house.\nRent is to be paid by the first of every month.\nFill in your signature to agree to these terms.\n-------------\n\nPlease Sign Here: Dot \n\n"
     ]
    }
   ],
   "source": [
    "# Solution\n",
    "\n",
    "signature = \"Dot\"\n",
    "\n",
    "new_lease = f'''\n",
    "Dear Dot, \n",
    "This document validates that you are beholden to a monthly payment of rent for this house.\n",
    "Rent is to be paid by the first of every month.\n",
    "Fill in your signature to agree to these terms.\n",
    "-------------\n",
    "\n",
    "Please Sign Here: {signature} \n",
    "'''\n",
    "print(new_lease)"
   ]
  }
 ]
}