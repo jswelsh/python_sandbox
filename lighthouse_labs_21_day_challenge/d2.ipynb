{
 "metadata": {
  "language_info": {
   "codemirror_mode": {
    "name": "ipython",
    "version": 3
   },
   "file_extension": ".py",
   "mimetype": "text/x-python",
   "name": "python",
   "nbconvert_exporter": "python",
   "pygments_lexer": "ipython3",
   "version": 3
  },
  "orig_nbformat": 2
 },
 "nbformat": 4,
 "nbformat_minor": 2,
 "cells": [
  {
   "source": [
    "Day Two: math with Python\n",
    "Life outside of the city sure is different. The costs of everyday things are different, too. Dot took a trip to the tiny grocer in the nearby town to stock up on essentials for the next few weeks. But the prices here sure are different than in the city!\n",
    "\n",
    "Dot needs to start paying more attention to finances if they’re going to do well out here. Can you help them figure out how much their grocery haul is going to cost?\n",
    "\n",
    "Tutorial:\n",
    "Numbers\n",
    "\n",
    "There are two main numeric data types in Python, integers and float.\n",
    "\n",
    "The integer data types refer to whole numbers, while float data types refer to any numeric value that isn't a whole, like a fraction or a decimal.\n",
    "\n",
    "In Python as well as any other programming language, there are a variety of math operations you can use to do basic arithmetic.\n",
    "\n",
    "To learn more about numbers in Python, take a look at these articles here and here.\n",
    "\n",
    "In Python, lists are a type of variable that can be sequenced. Lists can contain many items that can be indexed by integers, with items being kept separate by the ','.\n",
    "\n",
    "list = [] #lists are called using the square brackets\n",
    "\n",
    "list_of_int = [1,2,3,4,5] #list of integers\n",
    "list_of_string = ['string1','string2', 'string3'] #list of strings\n",
    "list_of_anything = [1, 'string', 3.2] #list with an integer, string, and float.\n",
    "To learn more about lists, check out this article here.\n",
    "\n",
    "Challenge\n",
    "Dot has a few lists you can use as reference: their grocery list, the prices they used to pay in the city, and the prices for the rural grocer. What is the price difference between groceries in the city vs. groceries in the country, as a percentage of country prices?\n",
    "\n",
    "Note: The index position for each item is consistent across all three lists."
   ],
   "cell_type": "markdown",
   "metadata": {}
  },
  {
   "cell_type": "code",
   "execution_count": null,
   "metadata": {},
   "outputs": [],
   "source": [
    "# Grocery List (19 items)\n",
    "grocery_list = ['Bananas', 'Clementines', 'Baguette', 'Oat Milk', 'Olive Oil', 'Coffee Beans',\n",
    "                'Chocolate Bar', 'Brocolli', 'Eggplant', 'Chickpeas', 'Lentils', 'Tomatoes',\n",
    "                'Pasta', 'Rice', 'Yogurt', 'Blueberries', 'Onions', 'Garlic', 'Truffles']\n",
    "\n",
    "# City Price\n",
    "city_price = [6.49, 4.99, 4.39, 4.29, 11.99, 17.99,          \n",
    "              3.49, 3.99, 1.10, 1.99, 2.99, 4.68,            \n",
    "              1.59, 8.99, 3.49, 6.99, 2.99, 1.98, 14.99]\n",
    "\n",
    "# Country Price\n",
    "country_price = [4.49, 4.12, 3.42, 6.99, 7.99, 14.99,              \n",
    "                2.99, 2.49, 0.99, 1.49, 2.49, 1.99,              \n",
    "                1.59, 6.99, 3.89, 4.99, 1.69, 1.87, 11.49]"
   ]
  },
  {
   "cell_type": "code",
   "execution_count": null,
   "metadata": {},
   "outputs": [],
   "source": [
    "# Solution\n",
    "t_c = sum(city_price)\n",
    "t_ct = sum(country_price)\n",
    "\n",
    "diff = (t_c - t_ct)/ t_ct\n",
    "\n",
    "print(round(diff,4))"
   ]
  },
  {
   "source": [
    "t_c = sum(city_price) #Used the built in sum function to sum up our list\n",
    "t_ct = sum(country_price)\n",
    "\n",
    "diff = (t_c - t_ct)/ t_ct #created a variable that imitates the percentage different equation\n",
    "\n",
    "print(round(diff,4)) #printed the results with the built in round funciton to make it easier to read."
   ],
   "cell_type": "markdown",
   "metadata": {}
  }
 ]
}