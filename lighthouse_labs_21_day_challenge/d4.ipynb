{
 "metadata": {
  "language_info": {
   "codemirror_mode": {
    "name": "ipython",
    "version": 3
   },
   "file_extension": ".py",
   "mimetype": "text/x-python",
   "name": "python",
   "nbconvert_exporter": "python",
   "pygments_lexer": "ipython3",
   "version": 3
  },
  "orig_nbformat": 2
 },
 "nbformat": 4,
 "nbformat_minor": 2,
 "cells": [
  {
   "source": [
    "Day Four: for loops\n",
    "Dot's now happily mapped out exactly what supplies they'll need to make the repairs to their new rural abode. They're nearly breathless with anticipation, thinking about how incredible it's going to look! But first, they need to buy the paint and wood. There's so much Dot needs to purchase, they're unsure - should they buy the items at normal retail value, or wholesale?\n",
    "\n",
    "Tutorial\n",
    "In this challenge, you'll need to use a for loop to reach the answer. In programming, a loop is a block of code that's executed repeatedly, either for a set number of times, or until a certain condition is met. A for loop is a loop that is executed for a set number of times, iterated over the number of items in a sequence. To learn more about for loops, read this article.\n",
    "\n",
    "lst = [1,2,3,4,5]\n",
    "\n",
    "\n",
    "for i in range(len(lst)): \n",
    "    '''insert code'''\n",
    "In the above code, the range() function creates a sequence of numbers, and the len() function outputs the length of a list.\n",
    "\n",
    "Challenge:\n",
    "Dot needs to purchase:\n",
    "\n",
    "600 planks of Oak Wood\n",
    "150 liters of Blue Paint\n",
    "15 liters of White Paint\n",
    "165 liters of Paint Finish\n",
    "Item\tNeeded Amount to Buy\tWholesale Price\tRetail Price\n",
    "Plank of Oak Wood\t600\t$ 7000\t$ 12.99\n",
    "1 Liter of Blue Paint\t150\t$ 1000\t$ 8.99\n",
    "1 Liter of White Paint\t15\t$ 1000\t$ 9.99\n",
    "1 Liter of Paint Finish\t165\t$ 800\t$ 3.99\n",
    "Use a loop to determine the price Dot would pay for purchasing supplies at the retail price. Based on that calculation, which itmes should Dot buy at retail vs. wholesale?\n",
    "\n",
    "Note: Assume the wholesale price covers all the supply Dot needs for each item, whereas the retail price is per single unit."
   ],
   "cell_type": "markdown",
   "metadata": {}
  },
  {
   "cell_type": "code",
   "execution_count": null,
   "metadata": {},
   "outputs": [],
   "source": [
    "item_list = ['Oak Wood', 'Blue Paint', 'White Paint', 'Paint Finish']\n",
    "\n",
    "amount_list = [600,150,15,165]\n",
    "\n",
    "wholesale_price_list = [7000, 1000, 1000, 800]\n",
    "\n",
    "retail_price = [12.99, 8.99, 9.99, 3.99]"
   ]
  },
  {
   "cell_type": "code",
   "execution_count": null,
   "metadata": {},
   "outputs": [],
   "source": [
    "#Solution\n",
    "full_price = []\n",
    "\n",
    "for i in range(len(item_list)):\n",
    "    \n",
    "    total_price = amount_list[i] * retail_price[i]\n",
    "    full_price.append(total_price)"
   ]
  },
  {
   "cell_type": "code",
   "execution_count": null,
   "metadata": {},
   "outputs": [],
   "source": [
    "print(full_price)"
   ]
  },
  {
   "source": [
    "Explanation\n",
    "item_list = ['Oak Wood', 'Blue Paint', 'White Paint', 'Paint Finish']\n",
    "\n",
    "amount_list = [600,150,15,165]\n",
    "\n",
    "wholesale_price_list = [7000, 1000, 1000, 800]\n",
    "\n",
    "retail_price = [12.99, 8.99, 9.99, 3.99]\n",
    "\n",
    "#Solution\n",
    "full_price = [] #Create an empty list\n",
    "\n",
    "for i in range(len(item_list)):\n",
    "\n",
    "    total_price = amount_list[i] * retail_price[i] #Store the total price for each item \n",
    "    full_price.append(total_price) #Use the append() function to store the total price in our global full_price list"
   ],
   "cell_type": "markdown",
   "metadata": {}
  }
 ]
}