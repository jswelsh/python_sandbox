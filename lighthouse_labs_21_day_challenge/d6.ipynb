{
 "metadata": {
  "language_info": {
   "codemirror_mode": {
    "name": "ipython",
    "version": 3
   },
   "file_extension": ".py",
   "mimetype": "text/x-python",
   "name": "python",
   "nbconvert_exporter": "python",
   "pygments_lexer": "ipython3",
   "version": 3
  },
  "orig_nbformat": 2
 },
 "nbformat": 4,
 "nbformat_minor": 2,
 "cells": [
  {
   "source": [],
   "cell_type": "markdown",
   "metadata": {}
  },
  {
   "source": [
    "Day Six: descriptive statistics\n",
    "Dot's finished their cleaning, and the house now looks fabulous. They survey their work with a satisfied smile. And their friends said a city-dweller like them would never be able to get their hands dirty like this — well, Dot sure showed them! Suddenly, a drop of water hits their face. As they look up, they realize that the roof is littered with holes! The landlord sure didn't mention this!\n",
    "\n",
    "Dot's measuring the sizes of all the different holes in the roof. They need to know how much material to purchase to patch them up. Can you help them?\n",
    "\n",
    "Tutorial\n",
    "Part of the job of data scientists and data analysts is to understand the data and extrapolate certain findings. In most cases, the first step of understanding a numerical data set is to look at the descriptive statistics. Descriptive statistics are brief descriptions that summarize datasets. There are many great Python libraries we can use to get descriptive statistics from numerical datasets. One such library is Pandas. We won't be going too in-depth with pandas today, just the basics to understand how to use pandas to get some general descriptive statistics. We will be covering pandas extensively and going over some of the advanced functions starting on Day 8.\n",
    "\n",
    "Pandas is one of the most widely used Python plugins. Pandas can be used when working with large data sets or performing data cleaning, manipulation, and analysis.\n",
    "\n",
    "Since the Pandas library is external to base Python, we will need to import it. When importing, we give an alias to pandas to shorten our code when calling on functions from pandas. Instead of writing pandas.name_of_function() we'll be able to write pd.name_of_function(). The alias pd is standard within the Python community.\n",
    "\n",
    "import pandas as pd # we must import our external python plugin\n",
    "\n",
    "list_of_num = [1,2,3,4,5]\n",
    "\n",
    "series = pd.Series(list_of_num) #converting our list_of_num to a pandas series variable\n",
    "                                #we need to do this to use some of pandas' useful descriptive statistics functions\n",
    "\n",
    "series.max()    #outputs maximum value in Pandas Series\n",
    "series.min()    #outputs minimum value in Pandas Series\n",
    "series.mean()   #outputs average value in Pandas Series\n",
    "series.median() #outputs median value in Pandas Series\n",
    "series.mode()   #outputs mode value in Pandas Series\n",
    "To read more on descriptive statistics, read this article.\n",
    "\n",
    "To learn more about the various pandas functions, check out user guide in the pandas documentation.\n",
    "\n",
    "Why should I use the documentation?\n",
    "\n",
    "On the job as a data scientist or data analyst, more often than not, you may find yourself looking up the documentation of a particular function or plugin you use. Don't worry if there are a few functions you don't know by heart. However, there are just too many to know! An essential skill is to learn how to navigate documentation and understand how to apply the examples to your work.\n",
    "\n",
    "Challenge:\n",
    "There are many holes in the living room's ceiling that desperately need to be fixed. Dot's measured them, and in total there are about 100. They need to figure out how much does it cost to fix all of the holes. Differently sized holes will require differently sized patches to fix them.\n",
    "\n",
    "Size of Hole\tCost to Fix\n",
    "Small (less than 20 mm)\t$1.30\n",
    "Medium (above or equal to 20 mm AND less than 70mm)\t$1.60\n",
    "Large (above or equal to 70 mm)\t$2.10\n",
    "Dot needs you to look at the measurements and figure out the answers to the following questions:\n",
    "\n",
    "What is the average sized hole?\n",
    "What is the average cost to fix a hole?\n",
    "What is the total cost of fixing all of the holes?\n",
    "\n",
    "Note: Use a for loop and an if else statement to answer Q3.\n",
    "Stretch Question:\n",
    "\n",
    "Stretch Questions are not required to be completed to finish the challenge but are recommended to further develop your skills.\n",
    "\n",
    "What is the maximum sized hole?\n",
    "What is the minimum sized hole?"
   ],
   "cell_type": "markdown",
   "metadata": {}
  },
  {
   "cell_type": "code",
   "execution_count": null,
   "metadata": {},
   "outputs": [],
   "source": [
    "import random \n",
    "random.seed(34)\n",
    "\n",
    "hole_sizes = [random.randint(1, i) for i in range(1, 101)]\n",
    "random.shuffle(hole_sizes)\n",
    "\n",
    "# hole sizes in mm\n",
    "hole_sizes[:5]"
   ]
  },
  {
   "cell_type": "code",
   "execution_count": null,
   "metadata": {},
   "outputs": [],
   "source": [
    "#SOLUTION\n",
    "#q1\n",
    "print(sum(hole_sizes)/len(hole_sizes))\n",
    "\n",
    "#or\n",
    "\n",
    "#Pandas version\n",
    "import pandas as pd\n",
    "hs = pd.Series(hole_sizes)\n",
    "print(hs.mean())"
   ]
  },
  {
   "cell_type": "code",
   "execution_count": null,
   "metadata": {},
   "outputs": [],
   "source": [
    "# STRETCH #q1\n",
    "hs.max()"
   ]
  },
  {
   "cell_type": "code",
   "execution_count": null,
   "metadata": {},
   "outputs": [],
   "source": [
    "# STRETCH #q2\n",
    "hs.min()"
   ]
  },
  {
   "cell_type": "code",
   "execution_count": null,
   "metadata": {},
   "outputs": [],
   "source": [
    "#Q2\n",
    "count_small = 0\n",
    "count_medium = 0\n",
    "count_large = 0 \n",
    "\n",
    "for i in hole_sizes:\n",
    "    if i < 20:\n",
    "        count_small += 1\n",
    "    elif i >= 20 and i < 70:\n",
    "        count_medium += 1       \n",
    "    else:\n",
    "        count_large += 1\n",
    "        \n",
    "print(f'The amount of small holes is {count_small}.')\n",
    "print(f'The amount of small holes is {count_medium}.')\n",
    "print(f'The amount of small holes is {count_large}.')"
   ]
  },
  {
   "cell_type": "code",
   "execution_count": null,
   "metadata": {},
   "outputs": [],
   "source": [
    "#Q3\n",
    "total_cost = 0\n",
    "\n",
    "for i in hole_sizes:\n",
    "    if i < 20:\n",
    "        total_cost += 1.3\n",
    "    elif i >= 20 and i < 70:\n",
    "        total_cost += 1.6       \n",
    "    else:\n",
    "        total_cost += 2.1\n",
    "        \n",
    "print(round(total_cost,4))@3"
   ]
  }
 ]
}