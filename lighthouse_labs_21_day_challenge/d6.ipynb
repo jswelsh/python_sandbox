{
 "metadata": {
  "language_info": {
   "codemirror_mode": {
    "name": "ipython",
    "version": 3
   },
   "file_extension": ".py",
   "mimetype": "text/x-python",
   "name": "python",
   "nbconvert_exporter": "python",
   "pygments_lexer": "ipython3",
   "version": 3
  },
  "orig_nbformat": 2
 },
 "nbformat": 4,
 "nbformat_minor": 2,
 "cells": [
  {
   "source": [],
   "cell_type": "markdown",
   "metadata": {}
  },
  {
   "cell_type": "code",
   "execution_count": null,
   "metadata": {},
   "outputs": [
    {
     "output_type": "error",
     "ename": "Error",
     "evalue": "Jupyter cannot be started. Error attempting to locate jupyter: Data Science libraries jupyter and notebook are not installed in interpreter Python 3.8.5 64-bit.",
     "traceback": [
      "Error: Jupyter cannot be started. Error attempting to locate jupyter: Data Science libraries jupyter and notebook are not installed in interpreter Python 3.8.5 64-bit.",
      "at S.startServer (/home/ody7/.vscode/extensions/ms-toolsai.jupyter-2021.2.603412351/out/client/extension.js:49:377947)",
      "at runMicrotasks (<anonymous>)",
      "at processTicksAndRejections (internal/process/task_queues.js:97:5)",
      "at async S.createServer (/home/ody7/.vscode/extensions/ms-toolsai.jupyter-2021.2.603412351/out/client/extension.js:49:377242)",
      "at async connect (/home/ody7/.vscode/extensions/ms-toolsai.jupyter-2021.2.603412351/out/client/extension.js:49:502415)",
      "at async f.ensureConnectionAndNotebookImpl (/home/ody7/.vscode/extensions/ms-toolsai.jupyter-2021.2.603412351/out/client/extension.js:32:603306)",
      "at async f.ensureConnectionAndNotebook (/home/ody7/.vscode/extensions/ms-toolsai.jupyter-2021.2.603412351/out/client/extension.js:32:601560)",
      "at async f.clearResult (/home/ody7/.vscode/extensions/ms-toolsai.jupyter-2021.2.603412351/out/client/extension.js:32:597222)",
      "at async f.reexecuteCell (/home/ody7/.vscode/extensions/ms-toolsai.jupyter-2021.2.603412351/out/client/extension.js:9:325687)",
      "at async f.reexecuteCells (/home/ody7/.vscode/extensions/ms-toolsai.jupyter-2021.2.603412351/out/client/extension.js:9:321891)"
     ]
    }
   ],
   "source": []
  }
 ]
}