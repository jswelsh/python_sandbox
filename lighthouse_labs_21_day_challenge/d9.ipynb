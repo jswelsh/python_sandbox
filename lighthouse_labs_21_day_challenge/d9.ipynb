{
 "metadata": {
  "language_info": {
   "codemirror_mode": {
    "name": "ipython",
    "version": 3
   },
   "file_extension": ".py",
   "mimetype": "text/x-python",
   "name": "python",
   "nbconvert_exporter": "python",
   "pygments_lexer": "ipython3",
   "version": "3.8.5-final"
  },
  "orig_nbformat": 2,
  "kernelspec": {
   "name": "python38564bit5d67d2c5a6e941f2862dc90acadadcd5",
   "display_name": "Python 3.8.5 64-bit",
   "language": "python"
  }
 },
 "nbformat": 4,
 "nbformat_minor": 2,
 "cells": [
  {
   "source": [
    "Day 9: pandas data cleaning & filling NaNs\n",
    "Dot understands how cows work a bit more now. They got themselves really hyped up to rent a cow, and traversed down the road to the cow farm. Dot spent some time negotiating with the cow farmer how much it would be to rent a cow, then went over to take a look at the beasts and pick a favourite.\n",
    "\n",
    "Examining the moo-ing creatures, a realization slowly sinks in. If Dot did rent out a cow, they would definitely get attached to it over the month. Having to give it back to the farmer would be heartbreaking! They think back to their youth, when they briefly took care of a friend's plankton. Giving the plankton back was one of the saddest moments of their life.\n",
    "\n",
    "Maybe Dot isn't thinking big enough. What if they took a leap and bought an entire cow - would it be worth it? How much milk would they get out of it?\n",
    "\n",
    "Tutorial\n",
    "Many people who work heavily with data would agree that a lot of time is spent on data cleaning, and only a little on actually running models or analyzing.\n",
    "\n",
    "Data cleaning consists of many different tasks, like handling missing data, reshaping data, and creating new data based on the given data (referred to as feature engineering).\n",
    "\n",
    "For today's challenge we'll be looking at different methods for dealing with missing values, and we'll be using pandas to help us with basic data cleaning.\n",
    "\n",
    "The equation for filling in missing values:\n",
    "\n",
    "df['column_name'] = df['column_name'].fillna(value = 100)\n",
    "\n",
    "df['column_name'] = df['column_name'].fillna(method = 'backfill')\n",
    "Before you move forward, take a moment to reflect on these questions:\n",
    "\n",
    "How would filling our missing data with the median value vs. the mean value affect the distribution of our data?\n",
    "\n",
    "Look up the .fillna function in the pandas documentation, and find some different filling methods we could implement. What are they?\n",
    "\n",
    "Now let's import our new data."
   ],
   "cell_type": "markdown",
   "metadata": {}
  },
  {
   "cell_type": "code",
   "execution_count": 5,
   "metadata": {},
   "outputs": [
    {
     "output_type": "error",
     "ename": "ModuleNotFoundError",
     "evalue": "No module named 'pandas'",
     "traceback": [
      "\u001b[0;31m---------------------------------------------------------------------------\u001b[0m",
      "\u001b[0;31mModuleNotFoundError\u001b[0m                       Traceback (most recent call last)",
      "\u001b[0;32m<ipython-input-5-965996a4aceb>\u001b[0m in \u001b[0;36m<module>\u001b[0;34m\u001b[0m\n\u001b[0;32m----> 1\u001b[0;31m \u001b[0;32mimport\u001b[0m \u001b[0mpandas\u001b[0m \u001b[0;32mas\u001b[0m \u001b[0mpd\u001b[0m\u001b[0;34m\u001b[0m\u001b[0;34m\u001b[0m\u001b[0m\n\u001b[0m\u001b[1;32m      2\u001b[0m \u001b[0mdf\u001b[0m \u001b[0;34m=\u001b[0m \u001b[0mpd\u001b[0m\u001b[0;34m.\u001b[0m\u001b[0mread_csv\u001b[0m\u001b[0;34m(\u001b[0m\u001b[0;34m'milk_2.csv'\u001b[0m\u001b[0;34m)\u001b[0m\u001b[0;34m\u001b[0m\u001b[0;34m\u001b[0m\u001b[0m\n\u001b[1;32m      3\u001b[0m \u001b[0;34m\u001b[0m\u001b[0m\n\u001b[1;32m      4\u001b[0m \u001b[0mprint\u001b[0m\u001b[0;34m(\u001b[0m\u001b[0mdf\u001b[0m\u001b[0;34m.\u001b[0m\u001b[0mhead\u001b[0m\u001b[0;34m(\u001b[0m\u001b[0;36m3\u001b[0m\u001b[0;34m)\u001b[0m\u001b[0;34m)\u001b[0m \u001b[0;31m#Inputing the value 3 inside the brackets of the df.head() function allows us to\u001b[0m\u001b[0;34m\u001b[0m\u001b[0;34m\u001b[0m\u001b[0m\n\u001b[1;32m      5\u001b[0m                   \u001b[0;31m#override the default value of 5.\u001b[0m\u001b[0;34m\u001b[0m\u001b[0;34m\u001b[0m\u001b[0;34m\u001b[0m\u001b[0m\n",
      "\u001b[0;31mModuleNotFoundError\u001b[0m: No module named 'pandas'"
     ]
    }
   ],
   "source": [
    "import pandas as pd\n",
    "df = pd.read_csv('milk_2.csv')\n",
    "\n",
    "print(df.head(3)) #Inputing the value 3 inside the brackets of the df.head() function allows us to\n",
    "                  #override the default value of 5.\n",
    "print('\\n') # \n",
    "\n",
    "print(df.shape)"
   ]
  },
  {
   "source": [
    "Month  Monthly milk production: pounds per cow  Number of Cows\n",
    "0  07-Feb                                    589.0            30.0\n",
    "1  07-Mar                                    561.0            32.0\n",
    "2  07-Apr                                    640.0            35.0\n",
    "\n",
    "\n",
    "(168, 3)\n",
    "As you can see, there are three columns in our new data frame instead of 2 columns from the last challenge. However, sometimes showing what the data frame looks like doesn't tell us much; what if we want to understand the different data types?\n",
    "\n",
    "There are two ways.\n",
    "\n",
    "df.info()\n",
    "df.dtypes\n",
    "First, let's see what df.info() tells us. I will let you try out the second method yourself."
   ],
   "cell_type": "markdown",
   "metadata": {}
  },
  {
   "cell_type": "code",
   "execution_count": null,
   "metadata": {},
   "outputs": [],
   "source": [
    "df.info()"
   ]
  },
  {
   "cell_type": "code",
   "execution_count": null,
   "metadata": {},
   "outputs": [],
   "source": [
    "Challenge\n",
    "Fill out the missing values in the monthly milk production column with the median, and fill out the number of cows column using the ffill method.\n",
    "\n",
    "After filling in the missing values with our new data, answer these questions for Dot, so they can figure out the value of having a cow year-round:\n",
    "\n",
    "What is the average for monthly milk production?\n",
    "What is the standard deviation for monthly milk production?\n",
    "What is the average number of cows used?\n"
   ]
  },
  {
   "cell_type": "code",
   "execution_count": 3,
   "metadata": {},
   "outputs": [
    {
     "output_type": "error",
     "ename": "NameError",
     "evalue": "name 'df' is not defined",
     "traceback": [
      "\u001b[0;31m---------------------------------------------------------------------------\u001b[0m",
      "\u001b[0;31mNameError\u001b[0m                                 Traceback (most recent call last)",
      "\u001b[0;32m<ipython-input-3-f6969296649a>\u001b[0m in \u001b[0;36m<module>\u001b[0;34m\u001b[0m\n\u001b[1;32m      1\u001b[0m \u001b[0;31m#Solution\u001b[0m\u001b[0;34m\u001b[0m\u001b[0;34m\u001b[0m\u001b[0;34m\u001b[0m\u001b[0m\n\u001b[0;32m----> 2\u001b[0;31m \u001b[0mmedian\u001b[0m \u001b[0;34m=\u001b[0m \u001b[0mdf\u001b[0m\u001b[0;34m[\u001b[0m\u001b[0;34m'Monthly milk production: pounds per cow'\u001b[0m\u001b[0;34m]\u001b[0m\u001b[0;34m.\u001b[0m\u001b[0mmedian\u001b[0m\u001b[0;34m(\u001b[0m\u001b[0;34m)\u001b[0m\u001b[0;34m\u001b[0m\u001b[0;34m\u001b[0m\u001b[0m\n\u001b[0m\u001b[1;32m      3\u001b[0m \u001b[0mdf\u001b[0m\u001b[0;34m[\u001b[0m\u001b[0;34m'Monthly milk production: pounds per cow'\u001b[0m\u001b[0;34m]\u001b[0m \u001b[0;34m=\u001b[0m \u001b[0mdf\u001b[0m\u001b[0;34m[\u001b[0m\u001b[0;34m'Monthly milk production: pounds per cow'\u001b[0m\u001b[0;34m]\u001b[0m\u001b[0;34m.\u001b[0m\u001b[0mfillna\u001b[0m\u001b[0;34m(\u001b[0m\u001b[0mvalue\u001b[0m \u001b[0;34m=\u001b[0m \u001b[0mmedian\u001b[0m\u001b[0;34m)\u001b[0m\u001b[0;34m\u001b[0m\u001b[0;34m\u001b[0m\u001b[0m\n",
      "\u001b[0;31mNameError\u001b[0m: name 'df' is not defined"
     ]
    }
   ],
   "source": [
    "#Solution\n",
    "median = df['Monthly milk production: pounds per cow'].median()\n",
    "df['Monthly milk production: pounds per cow'] = df['Monthly milk production: pounds per cow'].fillna(value = median)\n"
   ]
  },
  {
   "cell_type": "code",
   "execution_count": null,
   "metadata": {},
   "outputs": [],
   "source": [
    "#q1 \n",
    "df['Monthly milk production: pounds per cow'].mean()"
   ]
  },
  {
   "cell_type": "code",
   "execution_count": null,
   "metadata": {},
   "outputs": [],
   "source": [
    "#q2\n",
    "df['Monthly milk production: pounds per cow'].std()"
   ]
  },
  {
   "cell_type": "code",
   "execution_count": null,
   "metadata": {},
   "outputs": [],
   "source": [
    "#q3\n",
    "df['Number of Cows'].mean()"
   ]
  }
 ]
}