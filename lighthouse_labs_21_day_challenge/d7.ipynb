{
 "metadata": {
  "language_info": {
   "codemirror_mode": {
    "name": "ipython",
    "version": 3
   },
   "file_extension": ".py",
   "mimetype": "text/x-python",
   "name": "python",
   "nbconvert_exporter": "python",
   "pygments_lexer": "ipython3",
   "version": 3
  },
  "orig_nbformat": 2
 },
 "nbformat": 4,
 "nbformat_minor": 2,
 "cells": [
  {
   "source": [
    "Day Seven: simple functions and data cleaning\n",
    "Everything in Dot's new house is finally coming together now! The repairs are finished, and the cleaning's done. But the house won’t feel like a home until Dot finishes unpacking all their belongings. The problem is, the way things are organized is so chaotic that every time Dot approaches the pile of their boxes, they get overwhelmed and run away to continue procrastinating.\n",
    "\n",
    "Help Dot stop procrastinating on unpacking their things by cleaning up the dataset of their belongings.\n",
    "\n",
    "Tutorial\n",
    "In today's challenge you'll use another essential programming concept: functions. In the previous challenges and tutorials you've already encountered certain functions, like range(), len(), round(), and print(). However, those functions are already pre-defined, built-in to Python itself. Today, you'll learn how to create your own functions. Before proceeding, try reading this article on functions.\n",
    "\n",
    "def name_of_function(<input parameter>, <input parameter 2>):\n",
    "    '''\n",
    "    code\n",
    "    '''\n",
    "    return output\n",
    "Challenge\n",
    "Dot has a lot of different boxes laying around. They need a system for how to unpack them, or they'll just continue procrastinating. Help Dot sort the boxes by their weight.\n",
    "\n",
    "Box:\tWeight (kg)\n",
    "Box 1\t4\n",
    "Box 2\t2\n",
    "Box 3\t18\n",
    "Box 4\t21\n",
    "Box 5\t14\n",
    "Box 6\t13\n",
    "Create a function that will open the boxes according to their weight, from lightest to heaviest.\n",
    "\n"
   ],
   "cell_type": "markdown",
   "metadata": {}
  },
  {
   "cell_type": "code",
   "execution_count": null,
   "metadata": {},
   "outputs": [],
   "source": [
    "#example dicitonary\n",
    "user_boxes = {'weight': [4,2,18,21,14,13],\n",
    "              'box_name': ['box1','box2', 'box3', 'box4', 'box5', 'box6']\n",
    "             }\n",
    "             "
   ]
  },
  {
   "cell_type": "code",
   "execution_count": null,
   "metadata": {},
   "outputs": [],
   "source": [
    "#Solution:\n",
    "def open_box_order(user_boxes):\n",
    "    \n",
    "    for i in range(len(user_boxes['weight'])):\n",
    "        \n",
    "        for j in range(len(user_boxes['weight']) - 1):\n",
    "            \n",
    "            if user_boxes['weight'][j] > user_boxes['weight'][j+1]:\n",
    "                \n",
    "                user_boxes['weight'][j], user_boxes['weight'][j+1] = user_boxes['weight'][j + 1],user_boxes['weight'][j]\n",
    "                user_boxes['box_name'][j], user_boxes['box_name'][j+1] = user_boxes['box_name'][j + 1],user_boxes['box_name'][j]\n",
    "                \n",
    "    return print(user_boxes['box_name'])"
   ]
  }
 ]
}