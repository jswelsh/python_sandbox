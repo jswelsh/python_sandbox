{
 "metadata": {
  "language_info": {
   "codemirror_mode": {
    "name": "ipython",
    "version": 3
   },
   "file_extension": ".py",
   "mimetype": "text/x-python",
   "name": "python",
   "nbconvert_exporter": "python",
   "pygments_lexer": "ipython3",
   "version": 3
  },
  "orig_nbformat": 2
 },
 "nbformat": 4,
 "nbformat_minor": 2,
 "cells": [
  {
   "source": [
    "Day 8: pandas DataFrame\n",
    "Dot had a tiring set of days last week, getting their new off-the-grid home repaired and tidied up. Last night they sure slept like a log, if logs could sleep. Waking up well-rested to a sparkling-clean home, they feel completely rejuvenated and happy.\n",
    "\n",
    "When pouring some milk into their morning coffee, an idea starts whirring in Dot's head. They live in a rural place now, why would they continue buying milk at the grocery store like a city-dweller? Why not get it directly from a cow?\n",
    "\n",
    "Dot knows that there's a big cow farm just down the road where you can rent out a spotted friend for a few months. The thing is, they're not sure if this is the best time to do that. Do cows produce more milk during certain months, and less during others?\n",
    "\n",
    "Tutorial\n",
    "Pandas is one of the most widely used Python plugins. Pandas can be used when working with large datasets, or when performing data cleaning, manipulation, and anlaysis.\n",
    "\n",
    "In this week of challenges we will be using some basic pandas functionalities to help us gain insights into the datasets we're working with.\n",
    "\n",
    "But before we can use the pandas plugin, we have to import it."
   ],
   "cell_type": "markdown",
   "metadata": {}
  },
  {
   "cell_type": "code",
   "execution_count": null,
   "metadata": {},
   "outputs": [],
   "source": [
    "#import the pandas plugin\n",
    "import pandas as pd # pd is the alias we have given to pandas."
   ]
  },
  {
   "cell_type": "code",
   "execution_count": null,
   "metadata": {},
   "outputs": [],
   "source": [
    "#To Read a Dataset\n",
    "#Milk.csv is stored into a Pandas DataFrame variable called df.\n",
    "df = pd.read_csv('milk.csv')\n",
    "\n",
    "#df.head() function displays the first 5 rows of the dataset\n",
    "df.head()"
   ]
  },
  {
   "source": [
    "Try out the following functions on our pandas DataFrame df, and see what you can learn from the dataset.\n",
    "\n",
    "DataFrame Functions\n",
    "\n",
    "df.describe() provides descriptive statistics of all numerical columns\n",
    "df.unique() Number of unique items in a column\n",
    "df.shape() gets the number of rows and columsn in the dataframe\n",
    "DataFrame Column Functions\n",
    "\n",
    "info() provides an overview of all the columns, number of non-nulls, and data types in a DataFrame\n",
    "max() gets the max value from a column\n",
    "min() gets the min value from a column\n",
    "mean() get the mean value from a column\n",
    "idxmax() gets the integer index position of the max value from a column\n",
    "idxmin() gets the integer index position of the min value from a column\n",
    "loc() gets rows (or columns) with particular labels from the index\n",
    "iloc() gets rows (or columns) with particular positions in the index (only takes integers)\n",
    "#example using info()\n",
    "df.info()\n",
    "\n",
    "#example calling the max number from a column\n",
    "df['column_name'].max()\n",
    "To learn more about the various pandas functions, check out the user guide in the pandas documentation.\n",
    "\n",
    "Why should I use the documentation?\n",
    "\n",
    "On the job as a data scientist or data analyst, more often than not, you may find yourself looking up the documentation of a particular function or plugin you use. Don't worry if there are a few functions you don't know by heart. However, there are just too many to know! An essential skill is to learn how to navigate documentation and understand how to apply the examples to your work.\n",
    "\n",
    "Challenge\n",
    "After playing around with the functions above, you can start helping Dot figure out when the best time to rent a cow might be. With this dataset, you can take a look at how cows produce milk over time.\n",
    "\n",
    "Answer the following questions for Dot:\n",
    "\n",
    "At what year and month did company x produce the most milk?\n",
    "At what year and month did company x produce the least milk?\n",
    "Stretch\n",
    "\n",
    "Stretch questions are not required to be completed for the challenge, but you can test your skills with more advanced challenges.\n",
    "\n",
    "Which year produced the most milk?"
   ],
   "cell_type": "markdown",
   "metadata": {}
  },
  {
   "cell_type": "code",
   "execution_count": null,
   "metadata": {},
   "outputs": [],
   "source": [
    "#Solutions Q1\n",
    "max_milk = df['Monthly milk production: pounds per cow'].max()\n",
    "max_milk_index = df['Monthly milk production: pounds per cow'].idxmax()\n",
    "\n",
    "print(f'The maximum average milk production is {max_milk} during the year-month of {max_milk_index}.')"
   ]
  },
  {
   "cell_type": "code",
   "execution_count": null,
   "metadata": {},
   "outputs": [],
   "source": [
    "#Solutions Q2\n",
    "min_milk = df['Monthly milk production: pounds per cow'].min()\n",
    "min_milk_index = df['Monthly milk production: pounds per cow'].idxmin()\n",
    "\n",
    "print(f'The minimum average milk production is {min_milk} during the year-month of {min_milk_index}.')"
   ]
  }
 ]
}