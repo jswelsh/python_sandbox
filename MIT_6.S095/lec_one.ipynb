{
 "metadata": {
  "language_info": {
   "codemirror_mode": {
    "name": "ipython",
    "version": 3
   },
   "file_extension": ".py",
   "mimetype": "text/x-python",
   "name": "python",
   "nbconvert_exporter": "python",
   "pygments_lexer": "ipython3",
   "version": "3.8.5-final"
  },
  "orig_nbformat": 2,
  "kernelspec": {
   "name": "python38564bit237cb49fd08d4aef908224873c7cd614",
   "display_name": "Python 3.8.5 64-bit",
   "language": "python"
  }
 },
 "nbformat": 4,
 "nbformat_minor": 2,
 "cells": [
  {
   "cell_type": "code",
   "execution_count": 2,
   "metadata": {},
   "outputs": [],
   "source": [
    "#Programming for the Puzzled -- Srini Devadas\n",
    "#You Will All Conform\n",
    "#Input is a vector of F's and B's, in terms of forwards and backwards caps\n",
    "#Output is a set of commands (printed out) to get either all F's or all B's\n",
    "#Fewest commands are the goal\n",
    "\n",
    "caps = ['F', 'F', 'B', 'B', 'B', 'F', 'B', 'B', 'B', 'F', 'F', 'B', 'F' ]\n",
    "cap2 = ['F', 'F', 'B', 'B', 'B', 'F', 'B', 'B', 'B', 'F', 'F', 'F', 'F' ]\n"
   ]
  },
  {
   "source": [
    "def pleaseConform(caps):\n",
    "    #Initialization\n",
    "    start = 0\n",
    "    forward = 0\n",
    "    backward = 0\n",
    "    intervals = []\n",
    "\n",
    "    #Determine intervals where caps are on in the same direction\n",
    "    for i in range(1, len(caps)):\n",
    "        if caps[start] != caps[i]:\n",
    "            # each interval is a tuple with 3 elements (start, end, type)\n",
    "            intervals.append((start, i - 1, caps[start]))\n",
    "            \n",
    "            if caps[start] == 'F':\n",
    "                forward += 1\n",
    "            else:\n",
    "                backward += 1\n",
    "            start = i\n",
    "\n",
    "    #Need to add the last interval after for loop completes execution\n",
    "    intervals.append((start, len(caps) - 1, caps[start]))\n",
    "    if caps[start] == 'F':\n",
    "        forward += 1\n",
    "    else:\n",
    "        backward += 1\n",
    " \n",
    "##    print (intervals)\n",
    "##    print (forward, backward)\n",
    "    if forward < backward:\n",
    "        flip = 'F'\n",
    "    else:\n",
    "        flip = 'B'\n",
    "    for t in intervals:\n",
    "        if t[2] == flip:\n",
    "            #Exercise: if t[0] == t[1] change the printing!\n",
    "            print ('People in positions', t[0],\n",
    "                   'through', t[1], 'flip your caps!')\n",
    "                \n",
    "            \n",
    "pleaseConform(caps)\n",
    "##pleaseConform(cap2)"
   ],
   "cell_type": "code",
   "metadata": {},
   "execution_count": 3,
   "outputs": [
    {
     "output_type": "stream",
     "name": "stdout",
     "text": [
      "People in positions 2 through 4 flip your caps!\nPeople in positions 6 through 8 flip your caps!\nPeople in positions 11 through 11 flip your caps!\n"
     ]
    }
   ]
  },
  {
   "cell_type": "code",
   "execution_count": 11,
   "metadata": {},
   "outputs": [
    {
     "output_type": "stream",
     "name": "stdout",
     "text": [
      "People in positions 2 through 4 flip your caps!\nPeople in positions 6 through 8 flip your caps!\nPeople in positions 11 through 11 flip your caps!\n"
     ]
    }
   ],
   "source": [
    "def pleaseConformOpt(caps):\n",
    "    #Initialization\n",
    "    start = 0\n",
    "    forward = 0\n",
    "    backward = 0\n",
    "    intervals = []\n",
    "\n",
    "    caps = caps + ['END']\n",
    "\n",
    "    #Determine intervals where caps are on in the same direction\n",
    "    for i in range(1, len(caps)):\n",
    "        if caps[start] != caps[i]:\n",
    "            # each interval is a tuple with 3 elements (start, end, type)\n",
    "            intervals.append((start, i - 1, caps[start]))\n",
    "            \n",
    "            if caps[start] == 'F':\n",
    "                forward += 1\n",
    "            else:\n",
    "                backward += 1\n",
    "            start = i\n",
    "\n",
    "    if forward < backward:\n",
    "        flip = 'F'\n",
    "    else:\n",
    "        flip = 'B'\n",
    "    for t in intervals:\n",
    "        if t[2] == flip:\n",
    "            #Exercise: if t[0] == t[1] change the printing!\n",
    "            print ('People in positions', t[0], 'through', t[1], 'flip your caps!')\n",
    "\n",
    "pleaseConformOpt(caps)\n"
   ]
  },
  {
   "cell_type": "code",
   "execution_count": 12,
   "metadata": {},
   "outputs": [
    {
     "output_type": "stream",
     "name": "stdout",
     "text": [
      "People in positions 2 through 4 flip your caps!\nPeople in positions 6 through 8 flip your caps!\nPeople in positions 11 through 11 flip your caps!\n"
     ]
    }
   ],
   "source": [
    "def pleaseConformOnepass(caps):\n",
    "    caps = caps + [caps[0]]\n",
    "    for i in range(1, len(caps)):\n",
    "        if caps[i] != caps[i-1]:\n",
    "            if caps[i] != caps[0]:\n",
    "                print('People in positions', i, end='')\n",
    "            else:\n",
    "                print(' through', i-1, 'flip your caps!')\n",
    "pleaseConformOnepass(caps)"
   ]
  },
  {
   "cell_type": "code",
   "execution_count": null,
   "metadata": {},
   "outputs": [],
   "source": []
  }
 ]
}