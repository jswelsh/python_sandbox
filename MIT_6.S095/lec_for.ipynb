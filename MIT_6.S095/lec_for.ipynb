{
 "metadata": {
  "language_info": {
   "codemirror_mode": {
    "name": "ipython",
    "version": 3
   },
   "file_extension": ".py",
   "mimetype": "text/x-python",
   "name": "python",
   "nbconvert_exporter": "python",
   "pygments_lexer": "ipython3",
   "version": 3
  },
  "orig_nbformat": 2
 },
 "nbformat": 4,
 "nbformat_minor": 2,
 "cells": [
  {
   "cell_type": "code",
   "execution_count": null,
   "metadata": {},
   "outputs": [],
   "source": [
    "d -- Srini Devadas\n",
    "#Please Do Break the Crystal\n",
    "#This is an interactive procedure that given n floors and d balls determines\n",
    "#what floors to drop the balls from to minimize the worst-case number of\n",
    "#drops required to determine the hardness coefficient of the crystal.\n",
    "#The hardness coefficient will range from 0 (breaks at Floor 1) or n (does not\n",
    "#break at n.\n",
    "def howHardIsTheCrystal(n, d):\n",
    "\n",
    "    #First determine the radix r\n",
    "    r = 1\n",
    "    while (r**d <= n):\n",
    "        r = r + 1\n",
    "    print('Radix chosen is', r)\n",
    "\n",
    "    numDrops = 0\n",
    "    floorNoBreak = [0] * d\n",
    "    for i in range(d):\n",
    "        #Begin phase i\n",
    "        for j in range(r-1):\n",
    "            #increment ith digit of representation\n",
    "            floorNoBreak[i] += 1\n",
    "            Floor = convertToDecimal(r, d, floorNoBreak)\n",
    "            #Make sure you aren't higher than the highest floor\n",
    "            if Floor > n:\n",
    "                floorNoBreak[i] -= 1\n",
    "                break\n",
    "            print ('Drop ball', i+1, 'from Floor', Floor)\n",
    "            yes = input('Did the ball break (yes/no)?:')\n",
    "            numDrops += 1\n",
    "            if yes == 'yes':\n",
    "                floorNoBreak[i] -= 1\n",
    "                break\n",
    "\n",
    "\n",
    "    hardness = convertToDecimal(r, d, floorNoBreak)\n",
    "    print('Hardness coefficient is', hardness)\n",
    "    print('Total number of drops is', numDrops)\n",
    "\n",
    "    return\n",
    "\n",
    "def convertToDecimal(r, d, rep):\n",
    "    number = 0\n",
    "    for i in range(d-1):\n",
    "        number = (number + rep[i]) * r\n",
    "    number += rep[d-1]\n",
    "\n",
    "    return number\n",
    "\n",
    "    "
   ]
  }
 ]
}